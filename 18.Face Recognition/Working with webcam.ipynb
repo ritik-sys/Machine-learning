{
 "cells": [
  {
   "cell_type": "markdown",
   "metadata": {},
   "source": [
    "### Read Video Stream from Camera(Frame by Frame)"
   ]
  },
  {
   "cell_type": "code",
   "execution_count": 1,
   "metadata": {},
   "outputs": [],
   "source": [
    "import cv2"
   ]
  },
  {
   "cell_type": "code",
   "execution_count": 2,
   "metadata": {},
   "outputs": [],
   "source": [
    "cap = cv2.VideoCapture(0)\n",
    "while True:\n",
    "    #ret is a bool value which tells whether image is captured correctly or not\n",
    "    ret,frame = cap.read()\n",
    "    gray_frame = cv2.cvtColor(frame,cv2.COLOR_BGR2GRAY)\n",
    "    if ret==False:\n",
    "        continue\n",
    "    cv2.imshow(\"Video Frame\",frame)\n",
    "    cv2.imshow(\"Gray Frame\",gray_frame)\n",
    "    # Wait for User input - q then you will stop the loop\n",
    "    # 0XFF is a 8 bit number having 1 at all places i.e 1111111\n",
    "    #cv2.waitKey() gives 32 bit number\n",
    "    # when we do & bw them we basically gets a 8 bit number\n",
    "    # see notrs for more detail\n",
    "    keyPressed = cv2.waitKey(1) & 0XFF\n",
    "    # ord checks ASCII value\n",
    "    if keyPressed == ord('q'):\n",
    "        break\n",
    "#release the device\n",
    "cap.release()\n",
    "cv2.destroyAllWindows()\n"
   ]
  },
  {
   "cell_type": "code",
   "execution_count": null,
   "metadata": {},
   "outputs": [],
   "source": []
  },
  {
   "cell_type": "code",
   "execution_count": null,
   "metadata": {},
   "outputs": [],
   "source": []
  }
 ],
 "metadata": {
  "kernelspec": {
   "display_name": "Python 3",
   "language": "python",
   "name": "python3"
  },
  "language_info": {
   "codemirror_mode": {
    "name": "ipython",
    "version": 3
   },
   "file_extension": ".py",
   "mimetype": "text/x-python",
   "name": "python",
   "nbconvert_exporter": "python",
   "pygments_lexer": "ipython3",
   "version": "3.8.3"
  }
 },
 "nbformat": 4,
 "nbformat_minor": 4
}
