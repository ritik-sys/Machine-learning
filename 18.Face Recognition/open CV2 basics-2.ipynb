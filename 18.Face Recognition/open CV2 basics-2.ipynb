{
 "cells": [
  {
   "cell_type": "markdown",
   "metadata": {},
   "source": [
    "# Read and Show a Image using CV2"
   ]
  },
  {
   "cell_type": "code",
   "execution_count": 2,
   "metadata": {},
   "outputs": [],
   "source": [
    "import cv2"
   ]
  },
  {
   "cell_type": "code",
   "execution_count": 4,
   "metadata": {},
   "outputs": [
    {
     "ename": "SyntaxError",
     "evalue": "invalid syntax (<ipython-input-4-86e6bcaf6f06>, line 1)",
     "output_type": "error",
     "traceback": [
      "\u001b[1;36m  File \u001b[1;32m\"<ipython-input-4-86e6bcaf6f06>\"\u001b[1;36m, line \u001b[1;32m1\u001b[0m\n\u001b[1;33m    img = cv2.imread(http://localhost:8888/notebooks/Desktop/machine-learning/Untitled%20Folder/Untitled.ipynb?kernel_name=python3#\"icon.jpg\")\u001b[0m\n\u001b[1;37m                         ^\u001b[0m\n\u001b[1;31mSyntaxError\u001b[0m\u001b[1;31m:\u001b[0m invalid syntax\n"
     ]
    }
   ],
   "source": [
    "img = cv2.imread(http://localhost:8888/notebooks/Desktop/machine-learning/Untitled%20Folder/Untitled.ipynb?kernel_name=python3#\"icon.jpg\")\n",
    "cv2.imshow('Eracost logo',img)\n",
    "#wait for 10 seconds and window will be destroyed automatically\n",
    "# if we dont specify anything here then window wont be destriyed automatically\n",
    "cv2.waitKey(10000)\n",
    "cv2.destroyAllWindows()"
   ]
  },
  {
   "cell_type": "code",
   "execution_count": 3,
   "metadata": {},
   "outputs": [],
   "source": [
    "gray  = cv2.imread('icon.jpg',cv2.IMREAD_GRAYSCALE)\n",
    "cv2.imshow('Eracost logo',gray)\n",
    "cv2.waitKey()\n",
    "cv2.destroyAllWindows()"
   ]
  },
  {
   "cell_type": "code",
   "execution_count": null,
   "metadata": {},
   "outputs": [],
   "source": []
  }
 ],
 "metadata": {
  "kernelspec": {
   "display_name": "Python 3",
   "language": "python",
   "name": "python3"
  },
  "language_info": {
   "codemirror_mode": {
    "name": "ipython",
    "version": 3
   },
   "file_extension": ".py",
   "mimetype": "text/x-python",
   "name": "python",
   "nbconvert_exporter": "python",
   "pygments_lexer": "ipython3",
   "version": "3.7.9"
  }
 },
 "nbformat": 4,
 "nbformat_minor": 4
}
