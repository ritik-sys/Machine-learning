{
 "cells": [
  {
   "cell_type": "code",
   "execution_count": null,
   "metadata": {},
   "outputs": [],
   "source": [
    "import cv2\n",
    "import numpy\n",
    "#init camera\n",
    "capture = cv2.VideoCapture(0)\n",
    "#face detection\n",
    "face_cascade_classifier = cv2.CascadeClassifier(\"haarcascade_frontalface_alt.xml\")\n",
    "skip = 0\n",
    "face_data = []\n",
    "dataset_path = \"./data/\"\n",
    "filename=input('enter name of person : ')\n",
    "while True:\n",
    "    ret,frame = capture.read()\n",
    "    if ret==False:\n",
    "        continue\n",
    "    faces=face_cascade_classifier.detectMultiScale(frame,1.3,5)\n",
    "    if len(faces)==0:\n",
    "        continue\n",
    "    #pick largest face(bcz area is i[2]*i[3]) \n",
    "    faces = sorted(faces,key=lambda i:i[2]*i[3])\n",
    "    for face in faces[-1:]:\n",
    "        x,y,w,h= face\n",
    "        cv2.rectangle(frame,(x,y),(x+w,y+h),(0,255,255),2)\n",
    "        #croping required face : Region of Interest\n",
    "        offset = 10\n",
    "        face_section = frame[y-offset:y+h+offset,x-offset:x+w+offset]\n",
    "    \n",
    "        #resize into 100x100\n",
    "        face_section = cv2.resize(face_section,(100,100))\n",
    "        skip+=1\n",
    "        if skip%10==0:\n",
    "            face_data.append(face_section)\n",
    "            print(len(face_data))\n",
    "       \n",
    "    cv2.imshow(\"Video Frame\",frame)\n",
    "    cv2.imshow(\"Face Frame\",face_section)\n",
    "    \n",
    "    key_pressed = cv2.waitKey(1)&0XFF\n",
    "    if key_pressed == ord('q'):\n",
    "        break\n",
    "        \n",
    "#convert our face list array into numpy array\n",
    "face_data = np.asarray(face_data)\n",
    "#print(face_data.shape)\n",
    "#print(face_data.shape[0])\n",
    "face_data = face_data.reshape((face_data.shape[0],-1))\n",
    "print(face_data.shape)\n",
    "#save this data into file system\n",
    "np.save(dataset_path+filename+'.npy',face_data)\n",
    "capture.release()\n",
    "cv2.destroyAllWindows()"
   ]
  }
 ],
 "metadata": {
  "kernelspec": {
   "display_name": "Python 3",
   "language": "python",
   "name": "python3"
  },
  "language_info": {
   "codemirror_mode": {
    "name": "ipython",
    "version": 3
   },
   "file_extension": ".py",
   "mimetype": "text/x-python",
   "name": "python",
   "nbconvert_exporter": "python",
   "pygments_lexer": "ipython3",
   "version": "3.8.3"
  }
 },
 "nbformat": 4,
 "nbformat_minor": 4
}
