{
 "cells": [
  {
   "cell_type": "code",
   "execution_count": 31,
   "metadata": {},
   "outputs": [],
   "source": [
    "def genParenthesis(openB,closeB,n,s=[]):\n",
    "    if(closeB==n):\n",
    "        print(''.join(s))\n",
    "        return\n",
    "    else:\n",
    "        if(openB>closeB):\n",
    "            s.append(')') \n",
    "            genParenthesis(openB,closeB+1,n,s)\n",
    "            s.pop()\n",
    "        if(openB<n):\n",
    "            s.append('(')\n",
    "            genParenthesis(openB+1,closeB,n,s)\n",
    "            s.pop()\n",
    "    return"
   ]
  },
  {
   "cell_type": "code",
   "execution_count": 32,
   "metadata": {},
   "outputs": [
    {
     "name": "stdout",
     "output_type": "stream",
     "text": [
      "()()()\n",
      "()(())\n",
      "(())()\n",
      "(()())\n",
      "((()))\n"
     ]
    }
   ],
   "source": [
    "genParenthesis(0,0,3,s=[])\n"
   ]
  },
  {
   "cell_type": "code",
   "execution_count": null,
   "metadata": {},
   "outputs": [],
   "source": [
    "\n"
   ]
  },
  {
   "cell_type": "code",
   "execution_count": null,
   "metadata": {},
   "outputs": [],
   "source": [
    "n = int(input())\n",
    "for i in range(n):\n",
    "\tf = int(input())\n",
    "\ts = int(input())\n",
    "\tif(f>s):\n",
    "\t\ttemp = int(input())\n",
    "\t\tif(temp<s):\n",
    "\t\t\tcontinue\n",
    "\t\telse:\n",
    "\t\t\tflag=1\n",
    "\t\t\tprint('false')\n",
    "\tif(s>f):\n",
    "\t\ttemp = int(input())\n",
    "\t\tif(temp>s):\n",
    "\t\t\tcontinue\n",
    "\t\telse:"
   ]
  },
  {
   "cell_type": "code",
   "execution_count": null,
   "metadata": {},
   "outputs": [],
   "source": []
  }
 ],
 "metadata": {
  "kernelspec": {
   "display_name": "Python 3",
   "language": "python",
   "name": "python3"
  },
  "language_info": {
   "codemirror_mode": {
    "name": "ipython",
    "version": 3
   },
   "file_extension": ".py",
   "mimetype": "text/x-python",
   "name": "python",
   "nbconvert_exporter": "python",
   "pygments_lexer": "ipython3",
   "version": "3.8.3"
  }
 },
 "nbformat": 4,
 "nbformat_minor": 4
}
