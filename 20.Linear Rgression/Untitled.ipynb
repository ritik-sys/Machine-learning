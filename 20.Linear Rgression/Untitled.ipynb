{
 "cells": [
  {
   "cell_type": "markdown",
   "metadata": {},
   "source": [
    "# Interactive Plot\n",
    "- we need to save theta_list obtained in linear regression module to a .npy file"
   ]
  },
  {
   "cell_type": "code",
   "execution_count": 1,
   "metadata": {},
   "outputs": [],
   "source": [
    "import numpy as np\n",
    "import pandas as pd\n",
    "import matplotlib.pyplot as plt"
   ]
  },
  {
   "cell_type": "code",
   "execution_count": 7,
   "metadata": {},
   "outputs": [
    {
     "data": {
      "text/plain": [
       "<Figure size 432x288 with 0 Axes>"
      ]
     },
     "metadata": {},
     "output_type": "display_data"
    }
   ],
   "source": [
    "X = pd.read_csv(\"../datasets/Linear_X_Train.csv\")\n",
    "Y = pd.read_csv(\"../datasets/Linear_Y_Train.csv\")\n",
    "\n",
    "theta = np.load(\"theta.npy\")\n",
    "T0 = theta[:,0]\n",
    "T1 = theta[:,1]\n",
    "\n",
    "plt.ion()\n",
    "for i in range(50):\n",
    "    y_ = T1[i]*X + T0[i]\n",
    "    plt.scatter(X,Y)\n",
    "    plt.plot(X,y_,'red')\n",
    "    plt.draw()\n",
    "    plt.clf()\n"
   ]
  },
  {
   "cell_type": "code",
   "execution_count": null,
   "metadata": {},
   "outputs": [],
   "source": []
  }
 ],
 "metadata": {
  "kernelspec": {
   "display_name": "Python 3",
   "language": "python",
   "name": "python3"
  },
  "language_info": {
   "codemirror_mode": {
    "name": "ipython",
    "version": 3
   },
   "file_extension": ".py",
   "mimetype": "text/x-python",
   "name": "python",
   "nbconvert_exporter": "python",
   "pygments_lexer": "ipython3",
   "version": "3.8.3"
  }
 },
 "nbformat": 4,
 "nbformat_minor": 4
}
