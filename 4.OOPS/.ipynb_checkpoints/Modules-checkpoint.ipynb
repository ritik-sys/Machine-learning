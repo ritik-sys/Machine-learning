{
 "cells": [
  {
   "cell_type": "markdown",
   "metadata": {},
   "source": [
    "# Modules in Python"
   ]
  },
  {
   "cell_type": "markdown",
   "metadata": {},
   "source": [
    "#### VS code file we created a module calculator.py and oused this module in main.py file\n"
   ]
  },
  {
   "cell_type": "markdown",
   "metadata": {},
   "source": [
    "#### second way of importing\n",
    "from calculator import add\n",
    "#### First way of importing\n",
    "import calculator\n",
    "#### Third way of importing\n",
    "from calculator import *\n",
    "#### Creating Alias\n",
    "import calculator as cal"
   ]
  },
  {
   "cell_type": "code",
   "execution_count": 1,
   "metadata": {},
   "outputs": [
    {
     "name": "stdout",
     "output_type": "stream",
     "text": [
      "6\n",
      "2\n",
      "8\n",
      "2\n",
      "1\n",
      "7\n"
     ]
    }
   ],
   "source": [
    "# second way of importing\n",
    "from calculator import add\n",
    "# First way of importing\n",
    "import calculator\n",
    "# Third way of importing\n",
    "from calculator import *\n",
    "# Creating Alias\n",
    "import calculator as cal\n",
    "\n",
    "print(calculator.add(4, 2))\n",
    "print(calculator.sub(4, 2))\n",
    "print(calculator.multiply(4, 2))\n",
    "print(calculator.divide(4, 2))\n",
    "print(cal.sub(3, 2))\n",
    "print(add(2, 5))\n"
   ]
  },
  {
   "cell_type": "markdown",
   "metadata": {},
   "source": [
    "# Packages\n",
    "### Package is a collection of modules"
   ]
  },
  {
   "attachments": {
    "folder%20structure.PNG": {
     "image/png": "[encoded data removed]"
    }
   },
   "cell_type": "markdown",
   "metadata": {},
   "source": [
    "![folder%20structure.PNG](attachment:folder%20structure.PNG)"
   ]
  },
  {
   "cell_type": "markdown",
   "metadata": {},
   "source": [
    "### this is the required folder structure"
   ]
  },
  {
   "cell_type": "code",
   "execution_count": null,
   "metadata": {},
   "outputs": [],
   "source": [
    "#init.py\n",
    "__all__ = ['simple', 'complex']"
   ]
  },
  {
   "cell_type": "code",
   "execution_count": null,
   "metadata": {},
   "outputs": [],
   "source": [
    "#complex.py\n",
    "def square(x):\n",
    "    return x**2\n",
    "\n",
    "\n",
    "def cube(x):\n",
    "    return x**3\n"
   ]
  },
  {
   "cell_type": "code",
   "execution_count": null,
   "metadata": {},
   "outputs": [],
   "source": [
    "#simple.py\n",
    "def add(a, b):\n",
    "    return a+b\n",
    "\n",
    "\n",
    "def sub(a, b):\n",
    "    return a-b\n",
    "\n",
    "\n",
    "def multiply(a, b):\n",
    "    return a*b\n",
    "\n",
    "\n",
    "def divide(a, b):\n",
    "    return a//b\n",
    "\n",
    "\n",
    "# this part will only be executed when we run simple.py\n",
    "# means when we export this file this part wont be running\n",
    "if __name__ == '__main__':\n",
    "    print('hello')\n",
    "    a = int(input())\n",
    "    b = int(input())\n",
    "    print(a+b)\n"
   ]
  },
  {
   "cell_type": "code",
   "execution_count": null,
   "metadata": {},
   "outputs": [],
   "source": [
    "#main2.py\n",
    "from maths import (\n",
    "    simple,\n",
    "    complex\n",
    ")\n",
    "\n",
    "print(simple.add(3, 2))\n",
    "print(complex.cube(2))"
   ]
  },
  {
   "cell_type": "code",
   "execution_count": null,
   "metadata": {},
   "outputs": [],
   "source": []
  }
 ],
 "metadata": {
  "kernelspec": {
   "display_name": "Python 3",
   "language": "python",
   "name": "python3"
  },
  "language_info": {
   "codemirror_mode": {
    "name": "ipython",
    "version": 3
   },
   "file_extension": ".py",
   "mimetype": "text/x-python",
   "name": "python",
   "nbconvert_exporter": "python",
   "pygments_lexer": "ipython3",
   "version": "3.8.3"
  }
 },
 "nbformat": 4,
 "nbformat_minor": 4
}
