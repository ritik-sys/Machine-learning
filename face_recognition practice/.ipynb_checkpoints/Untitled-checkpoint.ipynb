{
 "cells": [
  {
   "cell_type": "code",
   "execution_count": 13,
   "metadata": {},
   "outputs": [
    {
     "name": "stdout",
     "output_type": "stream",
     "text": [
      "loaded Dada.npy\n",
      "loaded Papa.npy\n",
      "loaded Pooja.npy\n",
      "loaded Ritik.npy\n",
      "(65, 30000)\n",
      "(65, 1)\n",
      "(65, 30001)\n"
     ]
    }
   ],
   "source": [
    "import cv2\n",
    "import numpy as np\n",
    "import os\n",
    "def distance(v1, v2):\n",
    "    # Eucledian \n",
    "    return np.sqrt(((v1-v2)**2).sum())\n",
    "\n",
    "def knn(train, test, k=5):\n",
    "    dist = []\n",
    "    \n",
    "    for i in range(train.shape[0]):\n",
    "        # Get the vector and label\n",
    "        ix = train[i, :-1]\n",
    "        iy = train[i, -1]\n",
    "        # Compute the distance from test point\n",
    "        d = distance(test, ix)\n",
    "        dist.append([d, iy])\n",
    "    # Sort based on distance and get top k\n",
    "    dk = sorted(dist, key=lambda x: x[0])[:k]\n",
    "    # Retrieve only the labels\n",
    "    labels = np.array(dk)[:, -1]\n",
    "    \n",
    "    # Get frequencies of each label\n",
    "    output = np.unique(labels, return_counts=True)\n",
    "    # Find max frequency and corresponding label\n",
    "    index = np.argmax(output[1])\n",
    "    return output[0][index]\n",
    "\n",
    "face_data = []\n",
    "class_id = 0\n",
    "names = {}\n",
    "labels = []\n",
    "dataset_path = \"./data/\"\n",
    "#data preparation\n",
    "for fx in os.listdir(dataset_path):\n",
    "    if fx.endswith(\".npy\"):\n",
    "        print(\"loaded \"+fx)\n",
    "        names[class_id]=fx\n",
    "        data_item = np.load(dataset_path+fx)\n",
    "        face_data.append(data_item)\n",
    "        target = np.ones((data_item.shape[0],1))*class_id\n",
    "        class_id+=1\n",
    "        labels.append(target)\n",
    "        face_matrix = np.concatenate(face_data,axis=0)\n",
    "        label_matrix = np.concatenate(labels,axis=0)\n",
    "trainset=np.concatenate((face_matrix,label_matrix),axis=1)\n",
    "print(face_matrix.shape)\n",
    "print(label_matrix.shape)\n",
    "print(trainset.shape)\n",
    "#test\n",
    "cap = cv2.VideoCapture(0)\n",
    "face_cascade = cv2.CascadeClassifier(\"haarcascade_frontalface_alt.xml\")\n",
    "while True:\n",
    "    ret,frame = cap.read()\n",
    "    if ret == False:\n",
    "        continue\n",
    "    faces = face_cascade.detectMultiScale(frame,1.3,5)\n",
    "    for face in faces :\n",
    "        x,y,w,h = face\n",
    "        cv2.rectangle(frame,(x,y),(x+w,y+h),(0,255,255),2)\n",
    "        offset = 10\n",
    "        frame_section = frame[y-offset:y+h+offset,x-offset:x+w+offset]\n",
    "        frame_section = cv2.resize(frame_section,(100,100))\n",
    "        out = knn(trainset,frame_section.reshape(1,-1))\n",
    "        pred_name = names[int(out)]\n",
    "        cv2.putText(frame,pred_name[:-4],(x,y-10),cv2.FONT_HERSHEY_SIMPLEX,1,(255,0,0),2,cv2.LINE_AA)\n",
    "        cv2.rectangle(frame,(x,y),(x+w,y+h),(0,255,255),2)\n",
    "    cv2.imshow(\"Frame\",frame)\n",
    "    key_pressed = cv2.waitKey(1)&0XFF\n",
    "    if key_pressed == ord('q'):\n",
    "        break\n",
    "cap.release()\n",
    "cv2.destroyAllWindows()       \n",
    "        "
   ]
  },
  {
   "cell_type": "code",
   "execution_count": null,
   "metadata": {},
   "outputs": [],
   "source": []
  }
 ],
 "metadata": {
  "kernelspec": {
   "display_name": "Python 3",
   "language": "python",
   "name": "python3"
  },
  "language_info": {
   "codemirror_mode": {
    "name": "ipython",
    "version": 3
   },
   "file_extension": ".py",
   "mimetype": "text/x-python",
   "name": "python",
   "nbconvert_exporter": "python",
   "pygments_lexer": "ipython3",
   "version": "3.8.3"
  }
 },
 "nbformat": 4,
 "nbformat_minor": 4
}
