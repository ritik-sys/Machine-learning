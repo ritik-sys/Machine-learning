{
 "cells": [
  {
   "cell_type": "code",
   "execution_count": 1,
   "metadata": {},
   "outputs": [
    {
     "name": "stdout",
     "output_type": "stream",
     "text": [
      "Enter your Name : Ritik\n",
      "1\n",
      "2\n",
      "3\n",
      "4\n",
      "(4, 100, 100, 3)\n",
      "(4, 30000)\n"
     ]
    }
   ],
   "source": [
    "import cv2\n",
    "import numpy as np\n",
    "cap = cv2.VideoCapture(0)\n",
    "face_cascade = cv2.CascadeClassifier(\"haarcascade_frontalface_alt.xml\")\n",
    "person_name = input('Enter your Name : ')\n",
    "face_data = []\n",
    "skip = 0\n",
    "dir_name = \"./Data/\"\n",
    "offset = 10\n",
    "while True:\n",
    "    ret, frame = cap.read()\n",
    "    if ret == False:\n",
    "        continue\n",
    "    faces = face_cascade.detectMultiScale(frame, 1.3, 5)\n",
    "    if(len(faces) == 0):\n",
    "        continue\n",
    "    faces = sorted(faces, key=lambda i: i[2]*i[3], reverse=True)\n",
    "    for (x, y, w, h) in faces:\n",
    "        cv2.rectangle(frame, (x, y), (x+w, y+h), (0, 0, 255), 2)\n",
    "        face_section = frame[y-offset:y+h+offset, x-offset:x+w+offset]\n",
    "        face_section = cv2.resize(face_section, (100, 100))\n",
    "        skip += 1\n",
    "        if skip % 10 == 0:\n",
    "            face_data.append(face_section)\n",
    "            print(len(face_data))\n",
    "    cv2.imshow(\"Video Frame\", frame)\n",
    "    cv2.imshow(\"Face Frame\", face_section)\n",
    "    keyPressed = cv2.waitKey(1) & 0XFF\n",
    "    if keyPressed == ord('q'):\n",
    "        break\n",
    "face_data = np.asarray(face_data)\n",
    "print(face_data.shape)\n",
    "face_data = np.reshape(face_data, (face_data.shape[0], -1))\n",
    "print(face_data.shape)\n",
    "np.save(dir_name+person_name+'.npy',face_data)\n",
    "cap.release()\n",
    "cv2.destroyAllWindows()"
   ]
  },
  {
   "cell_type": "code",
   "execution_count": null,
   "metadata": {},
   "outputs": [],
   "source": [
    "cap.release()\n",
    "cv2.destroyAllWindows()"
   ]
  },
  {
   "cell_type": "code",
   "execution_count": null,
   "metadata": {},
   "outputs": [],
   "source": []
  }
 ],
 "metadata": {
  "kernelspec": {
   "display_name": "Python 3",
   "language": "python",
   "name": "python3"
  },
  "language_info": {
   "codemirror_mode": {
    "name": "ipython",
    "version": 3
   },
   "file_extension": ".py",
   "mimetype": "text/x-python",
   "name": "python",
   "nbconvert_exporter": "python",
   "pygments_lexer": "ipython3",
   "version": "3.8.3"
  }
 },
 "nbformat": 4,
 "nbformat_minor": 4
}
