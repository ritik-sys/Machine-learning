{
 "cells": [
  {
   "cell_type": "markdown",
   "metadata": {},
   "source": [
    "# Maximum Likelihood Estimation"
   ]
  },
  {
   "cell_type": "markdown",
   "metadata": {},
   "source": [
    "#### To convert from standard Normal Distribution (mean=0,std=1) multiply with new_sigma and add new_meu"
   ]
  },
  {
   "cell_type": "code",
   "execution_count": 1,
   "metadata": {},
   "outputs": [],
   "source": [
    "import numpy as np\n",
    "import matplotlib.pyplot as plt"
   ]
  },
  {
   "cell_type": "markdown",
   "metadata": {},
   "source": [
    "# Create standard normal disrtibution points "
   ]
  },
  {
   "cell_type": "code",
   "execution_count": 25,
   "metadata": {},
   "outputs": [
    {
     "data": {
      "text/plain": [
       "array([ 0.56277321, -0.51133637,  0.52003086,  0.59698695,  0.23720335,\n",
       "        0.48858319, -0.06173199, -0.79351395,  0.52584076,  0.84114786,\n",
       "       -0.83949227,  0.54653336, -1.40250833, -1.21635773, -0.71211293,\n",
       "        1.09746571, -0.07991079,  1.78236443,  1.28067414, -1.44640307])"
      ]
     },
     "execution_count": 25,
     "metadata": {},
     "output_type": "execute_result"
    }
   ],
   "source": [
    "X = np.random.randn(20)\n",
    "X"
   ]
  },
  {
   "cell_type": "markdown",
   "metadata": {},
   "source": [
    "# Convert from Standard form to normal form\n",
    "- take any value of mean and standard deviaton"
   ]
  },
  {
   "cell_type": "code",
   "execution_count": 41,
   "metadata": {},
   "outputs": [
    {
     "data": {
      "text/plain": [
       "array([[ 1.12554642],\n",
       "       [-1.02267274],\n",
       "       [ 1.04006172],\n",
       "       [ 1.19397391],\n",
       "       [ 0.47440669],\n",
       "       [ 0.97716638],\n",
       "       [-0.12346398],\n",
       "       [-1.58702789],\n",
       "       [ 1.05168152],\n",
       "       [ 1.68229573],\n",
       "       [-1.67898454],\n",
       "       [ 1.09306672],\n",
       "       [-2.80501665],\n",
       "       [-2.43271547],\n",
       "       [-1.42422585],\n",
       "       [ 2.19493142],\n",
       "       [-0.15982157],\n",
       "       [ 3.56472887],\n",
       "       [ 2.56134827],\n",
       "       [-2.89280614]])"
      ]
     },
     "execution_count": 41,
     "metadata": {},
     "output_type": "execute_result"
    }
   ],
   "source": [
    "mean = 0\n",
    "std = 2\n",
    "noise = std*X+mean\n",
    "noise"
   ]
  },
  {
   "cell_type": "markdown",
   "metadata": {},
   "source": [
    "# Take any value of theta (consider single feature)"
   ]
  },
  {
   "cell_type": "code",
   "execution_count": 42,
   "metadata": {},
   "outputs": [],
   "source": [
    "theta = np.array([3,5])"
   ]
  },
  {
   "cell_type": "markdown",
   "metadata": {},
   "source": [
    "# Now make two predictions\n",
    "- one with considering noise\n",
    "- one without considering noise"
   ]
  },
  {
   "cell_type": "code",
   "execution_count": 43,
   "metadata": {},
   "outputs": [],
   "source": [
    "#---------------------------------------\n",
    "#reshape x into 20,1 and theta into 1,2\n",
    "X = X.reshape(20,-1)\n",
    "noise = noise.reshape(20,-1)\n",
    "\n",
    "#--------------------------------------\n",
    "#--------------------------------------\n",
    "y_with_noise = (X*theta[1] + theta[0])+noise\n",
    "y_without_noise = X*theta[1] + theta[0] \n",
    "#--------------------------------------"
   ]
  },
  {
   "cell_type": "markdown",
   "metadata": {},
   "source": [
    "# Visualize our results"
   ]
  },
  {
   "cell_type": "code",
   "execution_count": 46,
   "metadata": {},
   "outputs": [
    {
     "data": {
      "image/png": "[encoded data removed]",
      "text/plain": [
       "<Figure size 576x396 with 1 Axes>"
      ]
     },
     "metadata": {},
     "output_type": "display_data"
    }
   ],
   "source": [
    "plt.style.use(\"seaborn\")\n",
    "plt.scatter(X,y_without_noise)\n",
    "plt.plot(X,y_with_noise,color=\"orange\")\n",
    "plt.show()"
   ]
  },
  {
   "cell_type": "code",
   "execution_count": null,
   "metadata": {},
   "outputs": [],
   "source": []
  }
 ],
 "metadata": {
  "kernelspec": {
   "display_name": "Python 3",
   "language": "python",
   "name": "python3"
  },
  "language_info": {
   "codemirror_mode": {
    "name": "ipython",
    "version": 3
   },
   "file_extension": ".py",
   "mimetype": "text/x-python",
   "name": "python",
   "nbconvert_exporter": "python",
   "pygments_lexer": "ipython3",
   "version": "3.8.3"
  }
 },
 "nbformat": 4,
 "nbformat_minor": 4
}
