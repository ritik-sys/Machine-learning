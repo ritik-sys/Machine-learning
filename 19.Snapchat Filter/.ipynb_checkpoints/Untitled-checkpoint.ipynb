{
 "cells": [
  {
   "cell_type": "code",
   "execution_count": 34,
   "metadata": {},
   "outputs": [],
   "source": [
    "import cv2\n",
    "import numpy as np"
   ]
  },
  {
   "cell_type": "code",
   "execution_count": 24,
   "metadata": {},
   "outputs": [
    {
     "name": "stdout",
     "output_type": "stream",
     "text": [
      "(221, 483, 3)\n",
      "172 120 54 54\n",
      "88 120 59 59\n",
      "(59, 59, 3)\n"
     ]
    }
   ],
   "source": [
    "img = cv2.imread(\"./Test/Before.png\")\n",
    "prop = cv2.imread(\"./Train/glasses.png\")\n",
    "eye_cascade = cv2.CascadeClassifier('./Train/third-party/haarcascade_eye.xml')\n",
    "eye_rect = eye_cascade.detectMultiScale(img,scaleFactor=1.2,minNeighbors=5)     \n",
    "print(prop.shape)\n",
    "for (x, y, w, h) in eye_rect: \n",
    "        print(x,y,w,h)\n",
    "        cv2.rectangle(img, (x, y),(x + w, y + h), (255, 255, 255), 10)\n",
    "        prop = cv2.resize(prop,(w,h))\n",
    "        cv2.imshow(\"Filter\",img)\n",
    "print(prop.shape)\n",
    "cv2.waitKey(10000)\n",
    "cv2.destroyAllWindows()"
   ]
  },
  {
   "cell_type": "code",
   "execution_count": 21,
   "metadata": {},
   "outputs": [],
   "source": [
    "prop.reshape?"
   ]
  },
  {
   "cell_type": "code",
   "execution_count": 85,
   "metadata": {},
   "outputs": [
    {
     "name": "stdout",
     "output_type": "stream",
     "text": [
      "[(85, 120, 60, 60), (177, 124, 49, 49)]\n",
      "(60, 141, 3)\n",
      "(485, 377, 3)\n"
     ]
    }
   ],
   "source": [
    "img = cv2.imread(\"./Test/Before.png\")\n",
    "glasses = cv2.imread(\"./Train/glasses.png\")\n",
    "face_cascade = cv2.CascadeClassifier('./Data/haarcascade_frontalface_alt.xml')\n",
    "eye_cascade=cv2.CascadeClassifier(\"./Data/haarcascade_eye.xml\")\n",
    "eyes = eye_cascade.detectMultiScale(img,1.3,5)\n",
    "eyes = sorted(eyes,key=lambda i: i[0])\n",
    "dim = []\n",
    "for (ex,ey,ew,eh) in eyes:\n",
    "    dim.append((ex,ey,ew,eh))\n",
    "    cv2.rectangle(img, (ex, ey),(ex + ew, ey + eh), (255, 255, 0), 2)\n",
    "print(dim)\n",
    "leng = 177-85+49\n",
    "bread = 60\n",
    "glasses = cv2.resize(glasses,(leng,bread))\n",
    "print(glasses.shape)\n",
    "print(img.shape)\n",
    "cv2.imshow(\"Filter\",img)\n",
    "cv2.waitKey(10000)\n",
    "cv2.destroyAllWindows()"
   ]
  },
  {
   "cell_type": "code",
   "execution_count": null,
   "metadata": {},
   "outputs": [],
   "source": []
  }
 ],
 "metadata": {
  "kernelspec": {
   "display_name": "Python 3",
   "language": "python",
   "name": "python3"
  },
  "language_info": {
   "codemirror_mode": {
    "name": "ipython",
    "version": 3
   },
   "file_extension": ".py",
   "mimetype": "text/x-python",
   "name": "python",
   "nbconvert_exporter": "python",
   "pygments_lexer": "ipython3",
   "version": "3.8.3"
  }
 },
 "nbformat": 4,
 "nbformat_minor": 4
}
